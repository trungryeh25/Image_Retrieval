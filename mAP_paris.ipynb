{
 "cells": [
  {
   "cell_type": "code",
   "execution_count": 15,
   "metadata": {
    "collapsed": true
   },
   "outputs": [],
   "source": [
    "import pandas as pd\n",
    "import os"
   ]
  },
  {
   "cell_type": "code",
   "execution_count": 16,
   "metadata": {
    "collapsed": false
   },
   "outputs": [],
   "source": [
    "Sum_APs = 0\n",
    "name_query = []\n",
    "APs = []\n",
    "true_label = []\n",
    "truth_label = []\n",
    "for file in os.listdir('retrieval_query_results_paris'):\n",
    "    df = pd.read_csv('retrieval_query_results_paris/' + file)\n",
    "    name_query.append(file[12:-11])\n",
    "    label_lst = list(df['label'])\n",
    "    index_lst = list(df['index'])\n",
    "    \n",
    "    true = 0\n",
    "    AP = 0\n",
    "    for i in range(len(label_lst[:sum(label_lst)])):\n",
    "        if (label_lst[i] == 1):\n",
    "            true = true + 1\n",
    "            AP = AP + true/index_lst[i]\n",
    "            \n",
    "    APs.append(AP/true) if true > 0 else APs.append(0)\n",
    "    true_label.append(true)\n",
    "    truth_label.append(sum(label_lst))"
   ]
  },
  {
   "cell_type": "code",
   "execution_count": 17,
   "metadata": {
    "collapsed": false
   },
   "outputs": [],
   "source": [
    "df0 = pd.DataFrame(data={\"name_query\": name_query, \"true_label\": true_label, \"truth_label\": truth_label, \"AP\": APs})"
   ]
  },
  {
   "cell_type": "code",
   "execution_count": 18,
   "metadata": {},
   "outputs": [
    {
     "data": {
      "text/html": [
       "<div>\n",
       "<style scoped>\n",
       "    .dataframe tbody tr th:only-of-type {\n",
       "        vertical-align: middle;\n",
       "    }\n",
       "\n",
       "    .dataframe tbody tr th {\n",
       "        vertical-align: top;\n",
       "    }\n",
       "\n",
       "    .dataframe thead th {\n",
       "        text-align: right;\n",
       "    }\n",
       "</style>\n",
       "<table border=\"1\" class=\"dataframe\">\n",
       "  <thead>\n",
       "    <tr style=\"text-align: right;\">\n",
       "      <th></th>\n",
       "      <th>types</th>\n",
       "      <th>AP</th>\n",
       "    </tr>\n",
       "  </thead>\n",
       "  <tbody>\n",
       "    <tr>\n",
       "      <th>0</th>\n",
       "      <td>museedorsay</td>\n",
       "      <td>0.819833</td>\n",
       "    </tr>\n",
       "    <tr>\n",
       "      <th>1</th>\n",
       "      <td>louvre</td>\n",
       "      <td>0.437546</td>\n",
       "    </tr>\n",
       "    <tr>\n",
       "      <th>2</th>\n",
       "      <td>defense</td>\n",
       "      <td>0.900761</td>\n",
       "    </tr>\n",
       "    <tr>\n",
       "      <th>3</th>\n",
       "      <td>pompidou</td>\n",
       "      <td>0.790282</td>\n",
       "    </tr>\n",
       "    <tr>\n",
       "      <th>4</th>\n",
       "      <td>triomphe</td>\n",
       "      <td>0.825419</td>\n",
       "    </tr>\n",
       "    <tr>\n",
       "      <th>5</th>\n",
       "      <td>sacrecoeur</td>\n",
       "      <td>0.569637</td>\n",
       "    </tr>\n",
       "    <tr>\n",
       "      <th>6</th>\n",
       "      <td>notredame</td>\n",
       "      <td>0.786076</td>\n",
       "    </tr>\n",
       "    <tr>\n",
       "      <th>7</th>\n",
       "      <td>pantheon</td>\n",
       "      <td>0.678950</td>\n",
       "    </tr>\n",
       "    <tr>\n",
       "      <th>8</th>\n",
       "      <td>general</td>\n",
       "      <td>0.751777</td>\n",
       "    </tr>\n",
       "    <tr>\n",
       "      <th>9</th>\n",
       "      <td>eiffel</td>\n",
       "      <td>0.523538</td>\n",
       "    </tr>\n",
       "    <tr>\n",
       "      <th>10</th>\n",
       "      <td>invalides</td>\n",
       "      <td>0.657612</td>\n",
       "    </tr>\n",
       "    <tr>\n",
       "      <th>11</th>\n",
       "      <td>moulinrouge</td>\n",
       "      <td>0.807449</td>\n",
       "    </tr>\n",
       "  </tbody>\n",
       "</table>\n",
       "</div>"
      ],
      "text/plain": [
       "          types        AP\n",
       "0   museedorsay  0.819833\n",
       "1        louvre  0.437546\n",
       "2       defense  0.900761\n",
       "3      pompidou  0.790282\n",
       "4      triomphe  0.825419\n",
       "5    sacrecoeur  0.569637\n",
       "6     notredame  0.786076\n",
       "7      pantheon  0.678950\n",
       "8       general  0.751777\n",
       "9        eiffel  0.523538\n",
       "10    invalides  0.657612\n",
       "11  moulinrouge  0.807449"
      ]
     },
     "execution_count": 18,
     "metadata": {},
     "output_type": "execute_result"
    }
   ],
   "source": [
    "types = list(set(df0['name_query']))\n",
    "types\n",
    "APs = []\n",
    "for i in types:\n",
    "    APs.append(sum(df0['AP'][df0['name_query']==i])/len(df0['AP'][df0['name_query']==i]))\n",
    "    \n",
    "df = pd.DataFrame(data={\"types\": types, \"AP\": APs})\n",
    "df"
   ]
  },
  {
   "cell_type": "code",
   "execution_count": 19,
   "metadata": {},
   "outputs": [
    {
     "data": {
      "text/plain": [
       "0.7124066114891244"
      ]
     },
     "execution_count": 19,
     "metadata": {},
     "output_type": "execute_result"
    }
   ],
   "source": [
    "mAP = sum(df['AP'])/len(df)\n",
    "mAP"
   ]
  }
 ],
 "metadata": {
  "kernelspec": {
   "display_name": "django",
   "language": "python",
   "name": "python3"
  },
  "language_info": {
   "codemirror_mode": {
    "name": "ipython",
    "version": 3
   },
   "file_extension": ".py",
   "mimetype": "text/x-python",
   "name": "python",
   "nbconvert_exporter": "python",
   "pygments_lexer": "ipython3",
   "version": "3.10.9"
  },
  "vscode": {
   "interpreter": {
    "hash": "89b7e2948a20d6004e328c37640097fab0aafe240ed2588a82663d21d6666c1a"
   }
  }
 },
 "nbformat": 4,
 "nbformat_minor": 0
}
