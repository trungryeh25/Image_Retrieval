{
 "cells": [
  {
   "cell_type": "code",
   "execution_count": 1,
   "metadata": {
    "collapsed": true
   },
   "outputs": [],
   "source": [
    "import os\n",
    "from numpy import load\n",
    "import numpy as np\n",
    "import cv2\n",
    "import pandas as pd\n",
    "from tensorflow.keras.applications.efficientnet import EfficientNetB7\n",
    "from tensorflow.keras.preprocessing import image\n",
    "from tensorflow.keras.applications.efficientnet import preprocess_input\n",
    "from sklearn.neighbors import KDTree\n",
    "import time"
   ]
  },
  {
   "cell_type": "code",
   "execution_count": 5,
   "metadata": {
    "collapsed": false
   },
   "outputs": [],
   "source": [
    "feature_list = load(r'npy\\paris_feature_list.npy')\n",
    "feature_id = load(r'npy\\paris_feature_id.npy')\n",
    "feature_id = feature_id.tolist()\n",
    "\n",
    "model = EfficientNetB7(include_top=False)\n",
    "kd = KDTree(feature_list)"
   ]
  },
  {
   "cell_type": "code",
   "execution_count": 7,
   "metadata": {
    "collapsed": false
   },
   "outputs": [],
   "source": [
    "def feature_extract(img_path, model):\n",
    "    img = image.load_img(img_path, target_size=(224, 224))\n",
    "    x = image.img_to_array(img)\n",
    "    x = np.expand_dims(x, axis=0)\n",
    "    x = preprocess_input(x)\n",
    "\n",
    "    features = model.predict(x)\n",
    "    flattened_features = features.flatten()\n",
    "    normalized_features = flattened_features / np.linalg.norm(flattened_features)\n",
    "    return normalized_features.reshape(-1,1).T[0]"
   ]
  },
  {
   "cell_type": "code",
   "execution_count": 10,
   "metadata": {
    "collapsed": false
   },
   "outputs": [],
   "source": [
    "pathY = 'media\\paris_dataset\\dataY\\paris'\n",
    "query_files = os.listdir(pathY)"
   ]
  },
  {
   "cell_type": "code",
   "execution_count": 14,
   "metadata": {
    "collapsed": false
   },
   "outputs": [
    {
     "name": "stdout",
     "output_type": "stream",
     "text": [
      "Query: paris_defense_000605\n",
      "1/1 [==============================] - 4s 4s/step\n",
      "Query: paris_defense_000331\n",
      "1/1 [==============================] - 0s 239ms/step\n",
      "Query: paris_defense_000216\n",
      "1/1 [==============================] - 0s 250ms/step\n",
      "Query: paris_defense_000056\n",
      "1/1 [==============================] - 0s 249ms/step\n",
      "Query: paris_defense_000254\n",
      "1/1 [==============================] - 0s 290ms/step\n",
      "Query: paris_general_002985\n",
      "1/1 [==============================] - 0s 265ms/step\n",
      "Query: paris_general_001729\n",
      "1/1 [==============================] - 0s 276ms/step\n",
      "Query: paris_eiffel_000266\n",
      "1/1 [==============================] - 0s 248ms/step\n",
      "Query: paris_general_002645\n",
      "1/1 [==============================] - 0s 246ms/step\n",
      "Query: paris_general_002391\n",
      "1/1 [==============================] - 0s 244ms/step\n",
      "Query: paris_invalides_000355\n",
      "1/1 [==============================] - 0s 241ms/step\n",
      "Query: paris_invalides_000072\n",
      "1/1 [==============================] - 0s 252ms/step\n",
      "Query: paris_invalides_000490\n",
      "1/1 [==============================] - 0s 246ms/step\n",
      "Query: paris_invalides_000229\n",
      "1/1 [==============================] - 0s 265ms/step\n",
      "Query: paris_invalides_000360\n",
      "1/1 [==============================] - 0s 267ms/step\n",
      "Query: paris_louvre_000081\n",
      "1/1 [==============================] - 0s 236ms/step\n",
      "Query: paris_louvre_000135\n",
      "1/1 [==============================] - 0s 244ms/step\n",
      "Query: paris_louvre_000050\n",
      "1/1 [==============================] - 0s 244ms/step\n",
      "Query: paris_louvre_000035\n",
      "1/1 [==============================] - 0s 231ms/step\n",
      "Query: paris_louvre_000139\n",
      "1/1 [==============================] - 0s 246ms/step\n",
      "Query: paris_moulinrouge_000667\n",
      "1/1 [==============================] - 0s 235ms/step\n",
      "Query: paris_moulinrouge_000868\n",
      "1/1 [==============================] - 0s 239ms/step\n",
      "Query: paris_moulinrouge_000657\n",
      "1/1 [==============================] - 0s 248ms/step\n",
      "Query: paris_moulinrouge_000794\n",
      "1/1 [==============================] - 0s 242ms/step\n",
      "Query: paris_moulinrouge_000004\n",
      "1/1 [==============================] - 0s 232ms/step\n",
      "Query: paris_museedorsay_000527\n",
      "1/1 [==============================] - 0s 262ms/step\n",
      "Query: paris_museedorsay_000012\n",
      "1/1 [==============================] - 0s 253ms/step\n",
      "Query: paris_museedorsay_000897\n",
      "1/1 [==============================] - 0s 258ms/step\n",
      "Query: paris_museedorsay_000564\n",
      "1/1 [==============================] - 0s 281ms/step\n",
      "Query: paris_museedorsay_000878\n",
      "1/1 [==============================] - 0s 216ms/step\n",
      "Query: paris_notredame_000256\n",
      "1/1 [==============================] - 0s 231ms/step\n",
      "Query: paris_notredame_000965\n",
      "1/1 [==============================] - 0s 217ms/step\n",
      "Query: paris_notredame_000390\n",
      "1/1 [==============================] - 0s 228ms/step\n",
      "Query: paris_general_003117\n",
      "1/1 [==============================] - 0s 218ms/step\n",
      "Query: paris_notredame_000581\n",
      "1/1 [==============================] - 0s 212ms/step\n",
      "Query: paris_pantheon_000466\n",
      "1/1 [==============================] - 0s 251ms/step\n",
      "Query: paris_pantheon_000520\n",
      "1/1 [==============================] - 0s 215ms/step\n",
      "Query: paris_pantheon_000232\n",
      "1/1 [==============================] - 0s 210ms/step\n",
      "Query: paris_pantheon_000547\n",
      "1/1 [==============================] - 0s 276ms/step\n",
      "Query: paris_pantheon_000339\n",
      "1/1 [==============================] - 0s 246ms/step\n",
      "Query: paris_pompidou_000432\n",
      "1/1 [==============================] - 0s 247ms/step\n",
      "Query: paris_pompidou_000444\n",
      "1/1 [==============================] - 0s 248ms/step\n",
      "Query: paris_pompidou_000252\n",
      "1/1 [==============================] - 0s 242ms/step\n",
      "Query: paris_pompidou_000471\n",
      "1/1 [==============================] - 0s 243ms/step\n",
      "Query: paris_pompidou_000636\n",
      "1/1 [==============================] - 0s 255ms/step\n",
      "Query: paris_sacrecoeur_000162\n",
      "1/1 [==============================] - 0s 251ms/step\n",
      "Query: paris_sacrecoeur_000417\n",
      "1/1 [==============================] - 0s 265ms/step\n",
      "Query: paris_sacrecoeur_000237\n",
      "1/1 [==============================] - 0s 248ms/step\n",
      "Query: paris_sacrecoeur_000586\n",
      "1/1 [==============================] - 0s 262ms/step\n",
      "Query: paris_sacrecoeur_000437\n",
      "1/1 [==============================] - 0s 251ms/step\n",
      "Query: paris_triomphe_000369\n",
      "1/1 [==============================] - 0s 246ms/step\n",
      "Query: paris_triomphe_000016\n",
      "1/1 [==============================] - 0s 247ms/step\n",
      "Query: paris_triomphe_000135\n",
      "1/1 [==============================] - 0s 271ms/step\n",
      "Query: paris_triomphe_000149\n",
      "1/1 [==============================] - 0s 253ms/step\n",
      "Query: paris_defense_000038\n",
      "1/1 [==============================] - 0s 252ms/step\n"
     ]
    }
   ],
   "source": [
    "all_times = 0\n",
    "for i in range(3, len(query_files), 4):\n",
    "    query = open(pathY + '\\\\' + query_files[i]).read()[:-1].split(' ')\n",
    "    x = int(float(query[1]))\n",
    "    y = int(float(query[2]))\n",
    "    w = int(float(query[3]))\n",
    "    h = int(float(query[4]))\n",
    "    good_results = open(pathY + '\\\\' + query_files[i-3]).readlines()\n",
    "    ok_results = open(pathY + '\\\\' + query_files[i-1]).readlines()\n",
    "    #junk_results = open(pathY + '\\\\' + query_files[i-2]).readlines()\n",
    "\n",
    "    accept_results = good_results + ok_results #+ junk_results\n",
    "    accept_results = [i[:-1] for i in accept_results]\n",
    "\n",
    "    print('Query:', query[0])\n",
    "\n",
    "    img = cv2.imread('media\\paris_dataset\\dataX\\paris' + '\\\\' + query[0].split('_')[1] + '\\\\' + query[0] + '.jpg')\n",
    "    cv2.imwrite('cut\\\\' + query[0] + '_cut.jpg', img[y:y+h, x:x+w])\n",
    "\n",
    "    start = time.time()\n",
    "    dist, indx = kd.query(feature_extract('cut\\\\' + query[0] + '_cut.jpg', model).reshape(-1,1).T, len(feature_list))\n",
    "    end = time.time()\n",
    "    all_times = all_times + (end-start)\n",
    "\n",
    "    index = []\n",
    "    distance = []\n",
    "    label = []\n",
    "    for j in range(len(feature_list)):\n",
    "        index.append(j+1)\n",
    "        distance.append(dist[0][j])\n",
    "        label.append(1) if feature_id[indx[0][j]].split('/')[-1][:-4] in accept_results else label.append(0)\n",
    "\n",
    "    df = pd.DataFrame(data={\"index\": index, \"distance\": distance, \"label\": label})\n",
    "    df.to_csv('retrieval_query_results_paris/query_' + query[0] + '.csv', index=False)"
   ]
  },
  {
   "cell_type": "code",
   "execution_count": 15,
   "metadata": {
    "collapsed": false
   },
   "outputs": [
    {
     "data": {
      "text/plain": [
       "80.26696157455444"
      ]
     },
     "execution_count": 15,
     "metadata": {},
     "output_type": "execute_result"
    }
   ],
   "source": [
    "all_times"
   ]
  }
 ],
 "metadata": {
  "kernelspec": {
   "display_name": "django",
   "language": "python",
   "name": "python3"
  },
  "language_info": {
   "codemirror_mode": {
    "name": "ipython",
    "version": 3
   },
   "file_extension": ".py",
   "mimetype": "text/x-python",
   "name": "python",
   "nbconvert_exporter": "python",
   "pygments_lexer": "ipython3",
   "version": "3.10.9"
  },
  "vscode": {
   "interpreter": {
    "hash": "89b7e2948a20d6004e328c37640097fab0aafe240ed2588a82663d21d6666c1a"
   }
  }
 },
 "nbformat": 4,
 "nbformat_minor": 0
}
