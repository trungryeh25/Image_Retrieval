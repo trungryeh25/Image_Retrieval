{
 "cells": [
  {
   "cell_type": "code",
   "execution_count": 111,
   "metadata": {
    "collapsed": true
   },
   "outputs": [],
   "source": [
    "import pandas as pd\n",
    "import os"
   ]
  },
  {
   "cell_type": "code",
   "execution_count": 112,
   "metadata": {
    "collapsed": false
   },
   "outputs": [],
   "source": [
    "Sum_APs = 0\n",
    "name_query = []\n",
    "APs = []\n",
    "true_label = []\n",
    "truth_label = []\n",
    "for file in os.listdir('retrieval_query_results'):\n",
    "    df = pd.read_csv('retrieval_query_results/' + file)\n",
    "    name_query.append(file[11:-11])\n",
    "    label_lst = list(df['label'])\n",
    "    index_lst = list(df['index'])\n",
    "    \n",
    "    true = 0\n",
    "    AP = 0\n",
    "    for i in range(len(label_lst[:sum(label_lst)])):\n",
    "        if (label_lst[i] == 1):\n",
    "            true = true + 1\n",
    "            AP = AP + true/index_lst[i]\n",
    "            \n",
    "    APs.append(AP/true) if true > 0 else APs.append(0)\n",
    "    true_label.append(true)\n",
    "    truth_label.append(sum(label_lst))"
   ]
  },
  {
   "cell_type": "code",
   "execution_count": 125,
   "metadata": {
    "collapsed": false
   },
   "outputs": [],
   "source": [
    "df = pd.DataFrame(data={\"name_query\": name_query, \"true_label\": true_label, \"truth_label\": truth_label, \"AP\": APs})"
   ]
  },
  {
   "cell_type": "code",
   "execution_count": 128,
   "metadata": {},
   "outputs": [],
   "source": [
    "types = list(set(df['name_query']))\n",
    "types\n",
    "APs = []\n",
    "for i in types:\n",
    "    APs.append(sum(df['AP'][df['name_query']==i])/len(df['AP'][df['name_query']==i]))\n",
    "    \n",
    "df = pd.DataFrame(data={\"types\": types, \"AP\": APs})"
   ]
  },
  {
   "cell_type": "code",
   "execution_count": 115,
   "metadata": {},
   "outputs": [
    {
     "data": {
      "text/plain": [
       "0.6453355709360645"
      ]
     },
     "execution_count": 115,
     "metadata": {},
     "output_type": "execute_result"
    }
   ],
   "source": [
    "mAP = sum(df['AP'])/len(df)\n",
    "mAP"
   ]
  }
 ],
 "metadata": {
  "kernelspec": {
   "display_name": "django",
   "language": "python",
   "name": "python3"
  },
  "language_info": {
   "codemirror_mode": {
    "name": "ipython",
    "version": 3
   },
   "file_extension": ".py",
   "mimetype": "text/x-python",
   "name": "python",
   "nbconvert_exporter": "python",
   "pygments_lexer": "ipython3",
   "version": "3.10.9"
  },
  "vscode": {
   "interpreter": {
    "hash": "89b7e2948a20d6004e328c37640097fab0aafe240ed2588a82663d21d6666c1a"
   }
  }
 },
 "nbformat": 4,
 "nbformat_minor": 0
}
